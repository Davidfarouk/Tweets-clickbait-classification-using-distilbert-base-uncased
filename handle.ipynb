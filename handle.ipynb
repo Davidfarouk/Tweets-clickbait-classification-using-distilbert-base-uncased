{
 "cells": [
  {
   "cell_type": "code",
   "execution_count": null,
   "metadata": {},
   "outputs": [],
   "source": [
    "import pandas as pd\n",
    "import ktrain\n",
    "from ktrain import text\n",
    "import numpy as np"
   ]
  },
  {
   "cell_type": "code",
   "execution_count": null,
   "metadata": {},
   "outputs": [],
   "source": [
    "df=pd.read_csv(\"webis_train.csv\")\n",
    "df2=pd.read_csv(\"webis_test.csv\")"
   ]
  },
  {
   "cell_type": "markdown",
   "metadata": {},
   "source": [
    "## Handeling dataset"
   ]
  },
  {
   "cell_type": "code",
   "execution_count": null,
   "metadata": {},
   "outputs": [],
   "source": [
    "input=df[\"postText\"].fillna(\"\")\n",
    "input=input.values.tolist()\n",
    "output=df[\"truthClass\"]\n",
    "output=output.values.tolist()\n",
    "input2=df2[\"postText\"].fillna(\"\")\n",
    "input2=input2.values.tolist()\n",
    "output2=df2[\"truthClass\"]\n",
    "output2=output2.values.tolist()\n",
    "#indx = df[\"truthClass\"].str.len().idxmax()\n",
    "#len(df[\"truthClass\"][indx])\n",
    "classname=['clickbait','no-clickbait']\n",
    "classname=np.array(classname)"
   ]
  },
  {
   "cell_type": "code",
   "execution_count": null,
   "metadata": {},
   "outputs": [],
   "source": [
    "model_name=\"distilbert-base-uncased\"\n",
    "classifier= text.Transformer(model_name,maxlen=512,class_names=classname)"
   ]
  },
  {
   "cell_type": "code",
   "execution_count": null,
   "metadata": {},
   "outputs": [],
   "source": [
    "train_data=classifier.preprocess_train(input,output)\n",
    "test_data=classifier.preprocess_train(input2,output2)"
   ]
  },
  {
   "cell_type": "code",
   "execution_count": null,
   "metadata": {},
   "outputs": [],
   "source": [
    "model=classifier.get_classifier()"
   ]
  },
  {
   "cell_type": "code",
   "execution_count": null,
   "metadata": {},
   "outputs": [],
   "source": [
    "learner= ktrain.get_learner(model,train_data=train_data,val_data=test_data,batch_size=8)"
   ]
  },
  {
   "cell_type": "code",
   "execution_count": null,
   "metadata": {},
   "outputs": [],
   "source": [
    "learner.fit_onecycle(1e-3,3)"
   ]
  },
  {
   "cell_type": "markdown",
   "metadata": {},
   "source": [
    "## Save and Validate"
   ]
  },
  {
   "cell_type": "code",
   "execution_count": null,
   "metadata": {},
   "outputs": [],
   "source": [
    "learner.validate(classname)"
   ]
  },
  {
   "cell_type": "code",
   "execution_count": null,
   "metadata": {},
   "outputs": [],
   "source": [
    "Predictor= ktrain.get_predictor(learner.model,preproc=classifier)"
   ]
  },
  {
   "cell_type": "code",
   "execution_count": null,
   "metadata": {},
   "outputs": [],
   "source": [
    "Predictor.predict(\"put the tweet here\")"
   ]
  },
  {
   "cell_type": "code",
   "execution_count": null,
   "metadata": {},
   "outputs": [],
   "source": [
    "learner.save_model(\"our tuned model\")"
   ]
  },
  {
   "cell_type": "code",
   "execution_count": null,
   "metadata": {},
   "outputs": [],
   "source": []
  }
 ],
 "metadata": {
  "interpreter": {
   "hash": "aa2520034f73d554b10ce3c3e85ceff65adbd75501bc521ec849851bdb92d36c"
  },
  "kernelspec": {
   "display_name": "Python 3.8.0 ('VE': venv)",
   "language": "python",
   "name": "python3"
  },
  "language_info": {
   "codemirror_mode": {
    "name": "ipython",
    "version": 3
   },
   "file_extension": ".py",
   "mimetype": "text/x-python",
   "name": "python",
   "nbconvert_exporter": "python",
   "pygments_lexer": "ipython3",
   "version": "3.8.0"
  },
  "orig_nbformat": 4
 },
 "nbformat": 4,
 "nbformat_minor": 2
}
